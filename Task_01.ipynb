{
 "cells": [
  {
   "cell_type": "markdown",
   "id": "c7938c79",
   "metadata": {},
   "source": [
    "# Task 1"
   ]
  },
  {
   "cell_type": "markdown",
   "id": "b1a5ad54",
   "metadata": {},
   "source": [
    "### Semi-supervised learning:\n",
    "#### Combines a small amount of labeled data with a large amount of unlabeled data to train to train models for tasks like classification and regression."
   ]
  },
  {
   "cell_type": "markdown",
   "id": "5587fe20",
   "metadata": {},
   "source": [
    "### Reinforcement learning:\n",
    "#### Lets an agent learn by interacting with its environment, getting rewards for good actions and penalties for bad ones. This helps it make better decisions over time, making it ideal for tasks where clear instructions are unavailable or providing labeled data is difficult."
   ]
  },
  {
   "cell_type": "markdown",
   "id": "ee1bb2b0",
   "metadata": {},
   "source": [
    "### Ensemble learning:\n",
    "#### Combines multiple models to outperform any single model. It combines predictions by aggregating predictions (voting) to reduce bias and boost accuracy, especially for complex tasks of complex data or weaker models."
   ]
  },
  {
   "cell_type": "code",
   "execution_count": null,
   "id": "382b45d3",
   "metadata": {},
   "outputs": [],
   "source": [
    "#To install needed libraries and packages\n",
    "!pip install numpy pandas matplotlib seaborn scikit-learn"
   ]
  },
  {
   "cell_type": "code",
   "execution_count": 1,
   "id": "da81ec25",
   "metadata": {},
   "outputs": [],
   "source": [
    "import numpy as np\n",
    "import pandas as pd\n",
    "import matplotlib.pyplot as plt\n",
    "import seaborn as sns\n",
    "#from sklearn"
   ]
  },
  {
   "cell_type": "code",
   "execution_count": null,
   "id": "f0ae45b9",
   "metadata": {},
   "outputs": [],
   "source": []
  }
 ],
 "metadata": {
  "kernelspec": {
   "display_name": "Python 3 (ipykernel)",
   "language": "python",
   "name": "python3"
  },
  "language_info": {
   "codemirror_mode": {
    "name": "ipython",
    "version": 3
   },
   "file_extension": ".py",
   "mimetype": "text/x-python",
   "name": "python",
   "nbconvert_exporter": "python",
   "pygments_lexer": "ipython3",
   "version": "3.11.3"
  }
 },
 "nbformat": 4,
 "nbformat_minor": 5
}
